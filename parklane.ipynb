{
 "cells": [
  {
   "cell_type": "code",
   "execution_count": 146,
   "metadata": {},
   "outputs": [],
   "source": [
    "import pandas as pd\n",
    "\n",
    "import matplotlib.pyplot as plt\n",
    "\n",
    "from sklearn import preprocessing\n",
    "from sklearn.decomposition import PCA\n",
    "from sklearn.feature_selection import r_regression\n",
    "from sklearn.linear_model import LinearRegression\n",
    "from sklearn.model_selection import train_test_split\n",
    "from sklearn.pipeline import make_pipeline\n",
    "from sklearn.preprocessing import StandardScaler\n"
   ]
  },
  {
   "cell_type": "code",
   "execution_count": 147,
   "metadata": {},
   "outputs": [],
   "source": [
    "df = pd.read_csv(\"/Users/admin/Downloads/202301_06.csv\", index_col='timestamp')"
   ]
  },
  {
   "cell_type": "code",
   "execution_count": 148,
   "metadata": {},
   "outputs": [],
   "source": [
    "# filter where hr or hb is  not 0\n",
    "fil_df = df[(df['sys_hr'] != 0) | (df['sys_hb'] != 0)]\n",
    "# replace NaN values with 0? median imputation\n",
    "fil_df = fil_df.fillna(fil_df.median())"
   ]
  },
  {
   "cell_type": "code",
   "execution_count": 149,
   "metadata": {},
   "outputs": [
    {
     "data": {
      "text/html": [
       "<div>\n",
       "<style scoped>\n",
       "    .dataframe tbody tr th:only-of-type {\n",
       "        vertical-align: middle;\n",
       "    }\n",
       "\n",
       "    .dataframe tbody tr th {\n",
       "        vertical-align: top;\n",
       "    }\n",
       "\n",
       "    .dataframe thead th {\n",
       "        text-align: right;\n",
       "    }\n",
       "</style>\n",
       "<table border=\"1\" class=\"dataframe\">\n",
       "  <thead>\n",
       "    <tr style=\"text-align: right;\">\n",
       "      <th></th>\n",
       "      <th>sys_kw</th>\n",
       "      <th>sys_cl</th>\n",
       "      <th>sys_hr</th>\n",
       "      <th>sys_hb</th>\n",
       "      <th>sys_eff</th>\n",
       "      <th>ch_sysef</th>\n",
       "      <th>air_eff</th>\n",
       "      <th>h_chwst</th>\n",
       "      <th>h_chwrt</th>\n",
       "      <th>h_cwst</th>\n",
       "      <th>...</th>\n",
       "      <th>ahu_ilp_1_ph</th>\n",
       "      <th>ahu_ilp_1_mvp</th>\n",
       "      <th>ahu_ilp_1_fl</th>\n",
       "      <th>ahu_ilp_1_freq</th>\n",
       "      <th>ahu_ilp_1_rpm</th>\n",
       "      <th>ahu_ilp_2_ph</th>\n",
       "      <th>ahu_ilp_2_mvp</th>\n",
       "      <th>ahu_ilp_2_fl</th>\n",
       "      <th>ahu_ilp_2_freq</th>\n",
       "      <th>ahu_ilp_2_rpm</th>\n",
       "    </tr>\n",
       "    <tr>\n",
       "      <th>timestamp</th>\n",
       "      <th></th>\n",
       "      <th></th>\n",
       "      <th></th>\n",
       "      <th></th>\n",
       "      <th></th>\n",
       "      <th></th>\n",
       "      <th></th>\n",
       "      <th></th>\n",
       "      <th></th>\n",
       "      <th></th>\n",
       "      <th></th>\n",
       "      <th></th>\n",
       "      <th></th>\n",
       "      <th></th>\n",
       "      <th></th>\n",
       "      <th></th>\n",
       "      <th></th>\n",
       "      <th></th>\n",
       "      <th></th>\n",
       "      <th></th>\n",
       "      <th></th>\n",
       "    </tr>\n",
       "  </thead>\n",
       "  <tbody>\n",
       "    <tr>\n",
       "      <th>2023-03-12 10:31:00</th>\n",
       "      <td>25.994081</td>\n",
       "      <td>230.706284</td>\n",
       "      <td>236.019318</td>\n",
       "      <td>25.477787</td>\n",
       "      <td>0.303707</td>\n",
       "      <td>0.109001</td>\n",
       "      <td>0.199254</td>\n",
       "      <td>16.349094</td>\n",
       "      <td>22.626659</td>\n",
       "      <td>25.654757</td>\n",
       "      <td>...</td>\n",
       "      <td>5.25</td>\n",
       "      <td>27.560001</td>\n",
       "      <td>119.680016</td>\n",
       "      <td>26.070564</td>\n",
       "      <td>2585.0</td>\n",
       "      <td>5.020000</td>\n",
       "      <td>27.560001</td>\n",
       "      <td>128.480011</td>\n",
       "      <td>26.233126</td>\n",
       "      <td>2580.0</td>\n",
       "    </tr>\n",
       "    <tr>\n",
       "      <th>2023-03-12 10:32:00</th>\n",
       "      <td>27.562376</td>\n",
       "      <td>39.721329</td>\n",
       "      <td>-9.834330</td>\n",
       "      <td>-612.514709</td>\n",
       "      <td>1.893862</td>\n",
       "      <td>0.693894</td>\n",
       "      <td>1.201483</td>\n",
       "      <td>21.504156</td>\n",
       "      <td>22.107063</td>\n",
       "      <td>26.077427</td>\n",
       "      <td>...</td>\n",
       "      <td>5.33</td>\n",
       "      <td>27.560001</td>\n",
       "      <td>118.360008</td>\n",
       "      <td>26.263605</td>\n",
       "      <td>2582.0</td>\n",
       "      <td>5.020000</td>\n",
       "      <td>27.560001</td>\n",
       "      <td>128.480011</td>\n",
       "      <td>26.304247</td>\n",
       "      <td>2572.0</td>\n",
       "    </tr>\n",
       "    <tr>\n",
       "      <th>2023-03-12 10:33:00</th>\n",
       "      <td>39.973473</td>\n",
       "      <td>1.050578</td>\n",
       "      <td>65.076706</td>\n",
       "      <td>-93.209633</td>\n",
       "      <td>139.025558</td>\n",
       "      <td>38.049030</td>\n",
       "      <td>45.365986</td>\n",
       "      <td>21.185747</td>\n",
       "      <td>21.151075</td>\n",
       "      <td>26.000360</td>\n",
       "      <td>...</td>\n",
       "      <td>5.33</td>\n",
       "      <td>27.560001</td>\n",
       "      <td>117.480019</td>\n",
       "      <td>26.314405</td>\n",
       "      <td>2590.0</td>\n",
       "      <td>5.020000</td>\n",
       "      <td>27.560001</td>\n",
       "      <td>127.600006</td>\n",
       "      <td>26.172165</td>\n",
       "      <td>2576.0</td>\n",
       "    </tr>\n",
       "    <tr>\n",
       "      <th>2023-03-12 10:34:00</th>\n",
       "      <td>43.150501</td>\n",
       "      <td>83.418709</td>\n",
       "      <td>160.046906</td>\n",
       "      <td>-51.843536</td>\n",
       "      <td>1.179878</td>\n",
       "      <td>0.523932</td>\n",
       "      <td>0.577734</td>\n",
       "      <td>20.328979</td>\n",
       "      <td>21.329203</td>\n",
       "      <td>25.537401</td>\n",
       "      <td>...</td>\n",
       "      <td>5.25</td>\n",
       "      <td>27.560001</td>\n",
       "      <td>119.240005</td>\n",
       "      <td>26.304247</td>\n",
       "      <td>2589.0</td>\n",
       "      <td>5.020000</td>\n",
       "      <td>27.560001</td>\n",
       "      <td>128.040009</td>\n",
       "      <td>26.253445</td>\n",
       "      <td>2584.0</td>\n",
       "    </tr>\n",
       "    <tr>\n",
       "      <th>2023-03-12 10:35:00</th>\n",
       "      <td>49.378506</td>\n",
       "      <td>127.538132</td>\n",
       "      <td>142.273010</td>\n",
       "      <td>-7.788623</td>\n",
       "      <td>0.760313</td>\n",
       "      <td>0.387167</td>\n",
       "      <td>0.374602</td>\n",
       "      <td>19.742857</td>\n",
       "      <td>21.591053</td>\n",
       "      <td>25.541592</td>\n",
       "      <td>...</td>\n",
       "      <td>5.25</td>\n",
       "      <td>27.560001</td>\n",
       "      <td>119.240005</td>\n",
       "      <td>26.162006</td>\n",
       "      <td>2589.0</td>\n",
       "      <td>4.940001</td>\n",
       "      <td>27.560001</td>\n",
       "      <td>129.360001</td>\n",
       "      <td>26.121365</td>\n",
       "      <td>2572.0</td>\n",
       "    </tr>\n",
       "  </tbody>\n",
       "</table>\n",
       "<p>5 rows × 276 columns</p>\n",
       "</div>"
      ],
      "text/plain": [
       "                        sys_kw      sys_cl      sys_hr      sys_hb  \\\n",
       "timestamp                                                            \n",
       "2023-03-12 10:31:00  25.994081  230.706284  236.019318   25.477787   \n",
       "2023-03-12 10:32:00  27.562376   39.721329   -9.834330 -612.514709   \n",
       "2023-03-12 10:33:00  39.973473    1.050578   65.076706  -93.209633   \n",
       "2023-03-12 10:34:00  43.150501   83.418709  160.046906  -51.843536   \n",
       "2023-03-12 10:35:00  49.378506  127.538132  142.273010   -7.788623   \n",
       "\n",
       "                        sys_eff   ch_sysef    air_eff    h_chwst    h_chwrt  \\\n",
       "timestamp                                                                     \n",
       "2023-03-12 10:31:00    0.303707   0.109001   0.199254  16.349094  22.626659   \n",
       "2023-03-12 10:32:00    1.893862   0.693894   1.201483  21.504156  22.107063   \n",
       "2023-03-12 10:33:00  139.025558  38.049030  45.365986  21.185747  21.151075   \n",
       "2023-03-12 10:34:00    1.179878   0.523932   0.577734  20.328979  21.329203   \n",
       "2023-03-12 10:35:00    0.760313   0.387167   0.374602  19.742857  21.591053   \n",
       "\n",
       "                        h_cwst  ...  ahu_ilp_1_ph  ahu_ilp_1_mvp  \\\n",
       "timestamp                       ...                                \n",
       "2023-03-12 10:31:00  25.654757  ...          5.25      27.560001   \n",
       "2023-03-12 10:32:00  26.077427  ...          5.33      27.560001   \n",
       "2023-03-12 10:33:00  26.000360  ...          5.33      27.560001   \n",
       "2023-03-12 10:34:00  25.537401  ...          5.25      27.560001   \n",
       "2023-03-12 10:35:00  25.541592  ...          5.25      27.560001   \n",
       "\n",
       "                     ahu_ilp_1_fl  ahu_ilp_1_freq  ahu_ilp_1_rpm  \\\n",
       "timestamp                                                          \n",
       "2023-03-12 10:31:00    119.680016       26.070564         2585.0   \n",
       "2023-03-12 10:32:00    118.360008       26.263605         2582.0   \n",
       "2023-03-12 10:33:00    117.480019       26.314405         2590.0   \n",
       "2023-03-12 10:34:00    119.240005       26.304247         2589.0   \n",
       "2023-03-12 10:35:00    119.240005       26.162006         2589.0   \n",
       "\n",
       "                     ahu_ilp_2_ph  ahu_ilp_2_mvp  ahu_ilp_2_fl  \\\n",
       "timestamp                                                        \n",
       "2023-03-12 10:31:00      5.020000      27.560001    128.480011   \n",
       "2023-03-12 10:32:00      5.020000      27.560001    128.480011   \n",
       "2023-03-12 10:33:00      5.020000      27.560001    127.600006   \n",
       "2023-03-12 10:34:00      5.020000      27.560001    128.040009   \n",
       "2023-03-12 10:35:00      4.940001      27.560001    129.360001   \n",
       "\n",
       "                     ahu_ilp_2_freq  ahu_ilp_2_rpm  \n",
       "timestamp                                           \n",
       "2023-03-12 10:31:00       26.233126         2580.0  \n",
       "2023-03-12 10:32:00       26.304247         2572.0  \n",
       "2023-03-12 10:33:00       26.172165         2576.0  \n",
       "2023-03-12 10:34:00       26.253445         2584.0  \n",
       "2023-03-12 10:35:00       26.121365         2572.0  \n",
       "\n",
       "[5 rows x 276 columns]"
      ]
     },
     "execution_count": 149,
     "metadata": {},
     "output_type": "execute_result"
    }
   ],
   "source": [
    "fil_df.head(5)"
   ]
  },
  {
   "cell_type": "markdown",
   "metadata": {},
   "source": [
    "# Feature Extraction"
   ]
  },
  {
   "cell_type": "code",
   "execution_count": 150,
   "metadata": {},
   "outputs": [],
   "source": [
    "df_chiller = fil_df[[\"sys_hb\", \"h_chwst\", \"h_chwrt\", \"h_cwst\", \"h_cwrt\", \"h_chwf\", \"h_cwf\", \"ch_1_kwe\", \"ch_2_kwe\", \"pchwp_1_kw\", \"pchwp_2_kw\", \"cwp_1_kw\", \"cwp_2_kw\", \"ct_1_kw\", \"ct_2_kw\", \"sys_cl\", \"sys_hr\", \"sys_kw\"]]\n",
    "X = df_chiller\n",
    "y = fil_df[[\"ch_sysef\"]]\n",
    "\n",
    "scaler = preprocessing.StandardScaler().fit(X)\n",
    "X = scaler.transform(X)"
   ]
  },
  {
   "cell_type": "code",
   "execution_count": 151,
   "metadata": {},
   "outputs": [
    {
     "data": {
      "text/plain": [
       "array([ 0.00740573, -0.05181569, -0.04025291,  0.01232794,  0.01983035,\n",
       "        0.00956881,  0.04427938,  0.02710178,  0.01766093,  0.0055482 ,\n",
       "        0.0093238 ,  0.01066158,  0.01335101,  0.05690774,  0.06027076,\n",
       "        0.0587592 ,  0.06270775,  0.07872202])"
      ]
     },
     "execution_count": 151,
     "metadata": {},
     "output_type": "execute_result"
    }
   ],
   "source": [
    "r_regression(X,y)"
   ]
  },
  {
   "cell_type": "markdown",
   "metadata": {},
   "source": [
    "comment\n",
    "the last 5 features are the most significant contributor to chiller efficiency\n",
    "which are cooling tower power inputs, cooling load, heat rejection, power input, normalization isn't necessary for pearson's test"
   ]
  },
  {
   "cell_type": "markdown",
   "metadata": {},
   "source": [
    "## PCA"
   ]
  },
  {
   "cell_type": "code",
   "execution_count": 152,
   "metadata": {},
   "outputs": [],
   "source": [
    "X_train, X_test, y_train, y_test = train_test_split(X, y, random_state=42)\n",
    "\n",
    "n_list = [i for i in range(1,11)]\n",
    "r_squared = {}\n",
    "\n",
    "for n in n_list:\n",
    "    pca_n = make_pipeline(PCA(n_components = n), LinearRegression())\n",
    "    pca_n.fit(X_train, y_train)\n",
    "\n",
    "    r_squared_value = pca_n.score(X_test, y_test)\n",
    "    r_squared[n] =  r_squared_value\n"
   ]
  },
  {
   "cell_type": "code",
   "execution_count": null,
   "metadata": {},
   "outputs": [],
   "source": [
    "x"
   ]
  },
  {
   "cell_type": "code",
   "execution_count": 157,
   "metadata": {},
   "outputs": [
    {
     "data": {
      "image/png": "[encoded data removed]",
      "text/plain": [
       "<Figure size 640x480 with 1 Axes>"
      ]
     },
     "metadata": {},
     "output_type": "display_data"
    }
   ],
   "source": [
    "n = r_squared.keys()\n",
    "values = r_squared.values()\n",
    "plt.plot(n,values)\n",
    "plt.title(\"R-squared value vs No.of Principal Components for a LR model\")\n",
    "plt.show()"
   ]
  }
 ],
 "metadata": {
  "kernelspec": {
   "display_name": "Python 3 (ipykernel)",
   "language": "python",
   "name": "python3"
  },
  "language_info": {
   "codemirror_mode": {
    "name": "ipython",
    "version": 3
   },
   "file_extension": ".py",
   "mimetype": "text/x-python",
   "name": "python",
   "nbconvert_exporter": "python",
   "pygments_lexer": "ipython3",
   "version": "3.12.3"
  }
 },
 "nbformat": 4,
 "nbformat_minor": 4
}
