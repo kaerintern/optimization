{
 "cells": [
  {
   "cell_type": "code",
   "execution_count": 2,
   "metadata": {},
   "outputs": [
    {
     "data": {
      "text/markdown": [
       "This version of Feyn and the QLattice is available for academic, personal, and non-commercial use. By using the community version of this software you agree to the terms and conditions which can be found at https://abzu.ai/eula."
      ],
      "text/plain": [
       "<IPython.core.display.Markdown object>"
      ]
     },
     "metadata": {},
     "output_type": "display_data"
    }
   ],
   "source": [
    "import feyn\n",
    "import pandas as pd\n",
    "from feyn.plots import plot_regression\n",
    "from feyn.tools import split"
   ]
  },
  {
   "cell_type": "code",
   "execution_count": 3,
   "metadata": {},
   "outputs": [],
   "source": [
    "df = pd.read_csv(\"/Users/admin/Downloads/parklane_edited.csv\", index_col='timestamp')"
   ]
  },
  {
   "cell_type": "code",
   "execution_count": 4,
   "metadata": {},
   "outputs": [
    {
     "name": "stderr",
     "output_type": "stream",
     "text": [
      "/var/folders/zj/qh6k8b392r109tcjhtspn0lh0000gp/T/ipykernel_5423/3650555903.py:26: PerformanceWarning: DataFrame is highly fragmented.  This is usually the result of calling `frame.insert` many times, which has poor performance.  Consider joining all columns at once using pd.concat(axis=1) instead. To get a de-fragmented frame, use `newframe = frame.copy()`\n",
      "  fil_df['lift'] = fil_df['h_cwrt'] - fil_df['h_chwst']\n",
      "/var/folders/zj/qh6k8b392r109tcjhtspn0lh0000gp/T/ipykernel_5423/3650555903.py:27: PerformanceWarning: DataFrame is highly fragmented.  This is usually the result of calling `frame.insert` many times, which has poor performance.  Consider joining all columns at once using pd.concat(axis=1) instead. To get a de-fragmented frame, use `newframe = frame.copy()`\n",
      "  fil_df['ct_tot_kw'] = fil_df['ct_1_kw'] + fil_df['ct_2_kw']\n"
     ]
    }
   ],
   "source": [
    "# filter where hr or hb is  not 0\n",
    "df = df[(df['sys_hr'] != 0) | (df['sys_hb'] != 0)]\n",
    "df = df[(df['h_chwst'] >=5) & (df['h_chwst'] <=20)]\n",
    "df = df[(df['h_chwrt'] >=5) & (df['h_chwrt'] <=25)]\n",
    "df = df[(df['pchwp_1_kw'] >=0) & (df['pchwp_1_kw'] <=25)]\n",
    "#df = df[(df['pchwp_2_kw'] >=0) & (df['pchwp_2_kw'] <=25)]\n",
    "df = df[(df['h_chwf'] >= 0) & (df['h_chwf'] <= 1500)]\n",
    "df = df[(df['cwp_1_kw'] >= 0) & (df['cwp_1_kw'] <=25)]\n",
    "df = df[(df['cwp_2_kw'] >= 0) & (df['cwp_2_kw'] <=25)]\n",
    "df = df[(df['h_chwf'] >=0) & (df['h_chwf'] <=1500)]\n",
    "df = df[(df['h_cwst']>=20) & (df['h_cwst']<=32)]\n",
    "df = df[(df['h_cwrt']>=20) & (df['h_cwrt']<=40)]\n",
    "df = df[(df['ch_1_kwe']>=0) & (df['ch_1_kwe']<=350)]\n",
    "df = df[(df['ch_2_kwe']>=0) & (df['ch_2_kwe']<=350)]\n",
    "df = df[(df['ct_1_kw']>=0) & (df['ct_1_kw']<=15)]\n",
    "df = df[(df['ct_2_kw']>=0) & (df['ct_2_kw']<=15)]\n",
    "df = df[(df['sys_cl']>=0) & (df['sys_cl']<=600)]\n",
    "df = df[(df['sys_hr']>=0) & (df['sys_hr']<=1000)]\n",
    "df = df[(df['sys_kw']>=0) & (df['sys_kw']<=400)]\n",
    "fil_df = df[(df['ch_sysef']>=0.3) & (df['ch_sysef']<=0.8)]\n",
    "\n",
    "# replace NaN values with 0? median imputation\n",
    "fil_df = fil_df.fillna(fil_df.median())\n",
    "\n",
    "# creating Lift Column, Lift: [h_cwrt-h_chwst]\n",
    "fil_df['lift'] = fil_df['h_cwrt'] - fil_df['h_chwst']\n",
    "fil_df['ct_tot_kw'] = fil_df['ct_1_kw'] + fil_df['ct_2_kw']"
   ]
  },
  {
   "cell_type": "code",
   "execution_count": 5,
   "metadata": {},
   "outputs": [
    {
     "data": {
      "text/html": [
       "<div>\n",
       "<style scoped>\n",
       "    .dataframe tbody tr th:only-of-type {\n",
       "        vertical-align: middle;\n",
       "    }\n",
       "\n",
       "    .dataframe tbody tr th {\n",
       "        vertical-align: top;\n",
       "    }\n",
       "\n",
       "    .dataframe thead th {\n",
       "        text-align: right;\n",
       "    }\n",
       "</style>\n",
       "<table border=\"1\" class=\"dataframe\">\n",
       "  <thead>\n",
       "    <tr style=\"text-align: right;\">\n",
       "      <th></th>\n",
       "      <th>ch_sysef</th>\n",
       "      <th>lift</th>\n",
       "      <th>sys_cl</th>\n",
       "      <th>ct_tot_kw</th>\n",
       "    </tr>\n",
       "    <tr>\n",
       "      <th>timestamp</th>\n",
       "      <th></th>\n",
       "      <th></th>\n",
       "      <th></th>\n",
       "      <th></th>\n",
       "    </tr>\n",
       "  </thead>\n",
       "  <tbody>\n",
       "    <tr>\n",
       "      <th>12/3/23 10:35</th>\n",
       "      <td>0.387167</td>\n",
       "      <td>7.367701</td>\n",
       "      <td>127.538132</td>\n",
       "      <td>3.508719</td>\n",
       "    </tr>\n",
       "    <tr>\n",
       "      <th>12/3/23 10:36</th>\n",
       "      <td>0.308619</td>\n",
       "      <td>7.805637</td>\n",
       "      <td>152.515945</td>\n",
       "      <td>3.477781</td>\n",
       "    </tr>\n",
       "    <tr>\n",
       "      <th>12/3/23 10:37</th>\n",
       "      <td>0.391576</td>\n",
       "      <td>8.073826</td>\n",
       "      <td>126.885735</td>\n",
       "      <td>7.184000</td>\n",
       "    </tr>\n",
       "    <tr>\n",
       "      <th>12/3/23 10:38</th>\n",
       "      <td>0.550531</td>\n",
       "      <td>8.440350</td>\n",
       "      <td>107.953125</td>\n",
       "      <td>7.088001</td>\n",
       "    </tr>\n",
       "    <tr>\n",
       "      <th>12/3/23 10:39</th>\n",
       "      <td>0.467190</td>\n",
       "      <td>9.664524</td>\n",
       "      <td>155.478806</td>\n",
       "      <td>7.152000</td>\n",
       "    </tr>\n",
       "  </tbody>\n",
       "</table>\n",
       "</div>"
      ],
      "text/plain": [
       "               ch_sysef      lift      sys_cl  ct_tot_kw\n",
       "timestamp                                               \n",
       "12/3/23 10:35  0.387167  7.367701  127.538132   3.508719\n",
       "12/3/23 10:36  0.308619  7.805637  152.515945   3.477781\n",
       "12/3/23 10:37  0.391576  8.073826  126.885735   7.184000\n",
       "12/3/23 10:38  0.550531  8.440350  107.953125   7.088001\n",
       "12/3/23 10:39  0.467190  9.664524  155.478806   7.152000"
      ]
     },
     "execution_count": 5,
     "metadata": {},
     "output_type": "execute_result"
    }
   ],
   "source": [
    "ch_sysef_df = fil_df[['ch_sysef', 'lift', 'sys_cl', 'ct_tot_kw']]\n",
    "\n",
    "ch_sysef_df.head(5)"
   ]
  },
  {
   "cell_type": "code",
   "execution_count": 6,
   "metadata": {},
   "outputs": [
    {
     "data": {
      "text/html": [
       "<?xml version=\"1.0\" encoding=\"utf-8\" ?>\n",
       "<svg baseProfile=\"full\" height=\"280.0\" preserveAspectRatio=\"none\" version=\"1.1\" viewBox=\"0 0 591 280.0\" width=\"591\" xmlns=\"http://www.w3.org/2000/svg\" xmlns:ev=\"http://www.w3.org/2001/xml-events\" xmlns:xlink=\"http://www.w3.org/1999/xlink\"><defs /><svg class=\"graph\" height=\"275.0\" width=\"591\" x=\"0\" y=\"0\"><defs /><text fill=\"#1E1E1E\" font-family=\"monospace\" font-size=\"12\" text-anchor=\"middle\" x=\"526.0\" y=\"159.0\">Loss: 6.67E-04</text><text fill=\"#1E1E1E\" font-family=\"monospace\" font-size=\"12\" text-anchor=\"start\" x=\"0\" y=\"265.0\">Epoch no. 2/2 - Tried 1899 models - Completed in 19s.</text><rect class=\"node\" fill=\"#00F082\" height=\"35\" stroke=\"#1E1E1E\" stroke-width=\"1\" width=\"90\" x=\"481\" y=\"110.0\"><title>ch_sysef\n",
       "linear:\n",
       "scale=0.247948\n",
       "scale offset=0.000000\n",
       "w=0.662209\n",
       "bias=1.7714</title></rect><text fill=\"#1E1E1E\" font-family=\"monospace\" font-size=\"12\" style=\"pointer-events:none\" text-anchor=\"middle\" x=\"526.0\" y=\"131.5\">ch_sysef</text><text fill=\"#1E1E1E\" font-family=\"monospace\" font-size=\"10\" style=\"pointer-events:none\" text-anchor=\"end\" x=\"569\" y=\"119.0\">0</text><text fill=\"#1E1E1E\" font-family=\"monospace\" font-size=\"10\" style=\"pointer-events:none\" text-anchor=\"start\" x=\"483\" y=\"119.0\">out</text><line stroke=\"#1E1E1E\" x1=\"451\" x2=\"481\" y1=\"127.5\" y2=\"127.5\" /><rect class=\"node\" fill=\"#FAFAFA\" height=\"35\" stroke=\"#FF1EC8\" stroke-width=\"1\" width=\"90\" x=\"361\" y=\"110.0\"><title>gaussian</title></rect><text fill=\"#1E1E1E\" font-family=\"monospace\" font-size=\"12\" style=\"pointer-events:none\" text-anchor=\"middle\" x=\"406.0\" y=\"131.5\">gaussian</text><text fill=\"#1E1E1E\" font-family=\"monospace\" font-size=\"10\" style=\"pointer-events:none\" text-anchor=\"end\" x=\"449\" y=\"119.0\">1</text><line stroke=\"#1E1E1E\" x1=\"331\" x2=\"361\" y1=\"97.5\" y2=\"118.5\" /><line stroke=\"#1E1E1E\" x1=\"331\" x2=\"361\" y1=\"157.5\" y2=\"136.5\" /><rect class=\"node\" fill=\"#FAFAFA\" height=\"35\" stroke=\"#FF1EC8\" stroke-width=\"1\" width=\"90\" x=\"241\" y=\"80.0\"><title>add</title></rect><text fill=\"#1E1E1E\" font-family=\"monospace\" font-size=\"12\" style=\"pointer-events:none\" text-anchor=\"middle\" x=\"286.0\" y=\"101.5\">add</text><text fill=\"#1E1E1E\" font-family=\"monospace\" font-size=\"10\" style=\"pointer-events:none\" text-anchor=\"end\" x=\"329\" y=\"89.0\">2</text><line stroke=\"#1E1E1E\" x1=\"211\" x2=\"241\" y1=\"37.5\" y2=\"88.5\" /><line stroke=\"#1E1E1E\" x1=\"211\" x2=\"241\" y1=\"97.5\" y2=\"106.5\" /><rect class=\"node\" fill=\"#FAFAFA\" height=\"35\" stroke=\"#FF1EC8\" stroke-width=\"1\" width=\"90\" x=\"121\" y=\"20.0\"><title>gaussian</title></rect><text fill=\"#1E1E1E\" font-family=\"monospace\" font-size=\"12\" style=\"pointer-events:none\" text-anchor=\"middle\" x=\"166.0\" y=\"41.5\">gaussian</text><text fill=\"#1E1E1E\" font-family=\"monospace\" font-size=\"10\" style=\"pointer-events:none\" text-anchor=\"end\" x=\"209\" y=\"29.0\">3</text><line stroke=\"#1E1E1E\" x1=\"91\" x2=\"121\" y1=\"97.5\" y2=\"28.5\" /><line stroke=\"#1E1E1E\" x1=\"91\" x2=\"121\" y1=\"157.5\" y2=\"46.5\" /><rect class=\"node\" fill=\"#00F082\" height=\"35\" stroke=\"#1E1E1E\" stroke-width=\"1\" width=\"90\" x=\"1\" y=\"80.0\"><title>ct_tot_kw\n",
       "linear:\n",
       "scale=0.083420\n",
       "scale offset=10.828710\n",
       "w=0.506325\n",
       "bias=0.5877</title></rect><text fill=\"#1E1E1E\" font-family=\"monospace\" font-size=\"12\" style=\"pointer-events:none\" text-anchor=\"middle\" x=\"46.0\" y=\"101.5\">ct_tot_kw</text><text fill=\"#1E1E1E\" font-family=\"monospace\" font-size=\"10\" style=\"pointer-events:none\" text-anchor=\"end\" x=\"89\" y=\"89.0\">4</text><text fill=\"#1E1E1E\" font-family=\"monospace\" font-size=\"10\" style=\"pointer-events:none\" text-anchor=\"start\" x=\"3\" y=\"89.0\">num</text><rect class=\"node\" fill=\"#00F082\" height=\"35\" stroke=\"#1E1E1E\" stroke-width=\"1\" width=\"90\" x=\"1\" y=\"140.0\"><title>lift\n",
       "linear:\n",
       "scale=0.087984\n",
       "scale offset=23.598128\n",
       "w=1.075408\n",
       "bias=-0.3385</title></rect><text fill=\"#1E1E1E\" font-family=\"monospace\" font-size=\"12\" style=\"pointer-events:none\" text-anchor=\"middle\" x=\"46.0\" y=\"161.5\">lift</text><text fill=\"#1E1E1E\" font-family=\"monospace\" font-size=\"10\" style=\"pointer-events:none\" text-anchor=\"end\" x=\"89\" y=\"149.0\">5</text><text fill=\"#1E1E1E\" font-family=\"monospace\" font-size=\"10\" style=\"pointer-events:none\" text-anchor=\"start\" x=\"3\" y=\"149.0\">num</text><rect class=\"node\" fill=\"#00F082\" height=\"35\" stroke=\"#1E1E1E\" stroke-width=\"1\" width=\"90\" x=\"121\" y=\"80.0\"><title>ct_tot_kw\n",
       "linear:\n",
       "scale=0.083420\n",
       "scale offset=10.828710\n",
       "w=0.749846\n",
       "bias=-0.7657</title></rect><text fill=\"#1E1E1E\" font-family=\"monospace\" font-size=\"12\" style=\"pointer-events:none\" text-anchor=\"middle\" x=\"166.0\" y=\"101.5\">ct_tot_kw</text><text fill=\"#1E1E1E\" font-family=\"monospace\" font-size=\"10\" style=\"pointer-events:none\" text-anchor=\"end\" x=\"209\" y=\"89.0\">6</text><text fill=\"#1E1E1E\" font-family=\"monospace\" font-size=\"10\" style=\"pointer-events:none\" text-anchor=\"start\" x=\"123\" y=\"89.0\">num</text><rect class=\"node\" fill=\"#FAFAFA\" height=\"35\" stroke=\"#FF1EC8\" stroke-width=\"1\" width=\"90\" x=\"241\" y=\"140.0\"><title>gaussian</title></rect><text fill=\"#1E1E1E\" font-family=\"monospace\" font-size=\"12\" style=\"pointer-events:none\" text-anchor=\"middle\" x=\"286.0\" y=\"161.5\">gaussian</text><text fill=\"#1E1E1E\" font-family=\"monospace\" font-size=\"10\" style=\"pointer-events:none\" text-anchor=\"end\" x=\"329\" y=\"149.0\">7</text><line stroke=\"#1E1E1E\" x1=\"211\" x2=\"241\" y1=\"157.5\" y2=\"148.5\" /><line stroke=\"#1E1E1E\" x1=\"211\" x2=\"241\" y1=\"217.5\" y2=\"166.5\" /><rect class=\"node\" fill=\"#00F082\" height=\"35\" stroke=\"#1E1E1E\" stroke-width=\"1\" width=\"90\" x=\"121\" y=\"140.0\"><title>lift\n",
       "linear:\n",
       "scale=0.087984\n",
       "scale offset=23.598128\n",
       "w=-0.648047\n",
       "bias=-0.6560</title></rect><text fill=\"#1E1E1E\" font-family=\"monospace\" font-size=\"12\" style=\"pointer-events:none\" text-anchor=\"middle\" x=\"166.0\" y=\"161.5\">lift</text><text fill=\"#1E1E1E\" font-family=\"monospace\" font-size=\"10\" style=\"pointer-events:none\" text-anchor=\"end\" x=\"209\" y=\"149.0\">8</text><text fill=\"#1E1E1E\" font-family=\"monospace\" font-size=\"10\" style=\"pointer-events:none\" text-anchor=\"start\" x=\"123\" y=\"149.0\">num</text><rect class=\"node\" fill=\"#00F082\" height=\"35\" stroke=\"#1E1E1E\" stroke-width=\"1\" width=\"90\" x=\"121\" y=\"200.0\"><title>sys_cl\n",
       "linear:\n",
       "scale=0.003529\n",
       "scale offset=330.337582\n",
       "w=3.668969\n",
       "bias=0.4092</title></rect><text fill=\"#1E1E1E\" font-family=\"monospace\" font-size=\"12\" style=\"pointer-events:none\" text-anchor=\"middle\" x=\"166.0\" y=\"221.5\">sys_cl</text><text fill=\"#1E1E1E\" font-family=\"monospace\" font-size=\"10\" style=\"pointer-events:none\" text-anchor=\"end\" x=\"209\" y=\"209.0\">9</text><text fill=\"#1E1E1E\" font-family=\"monospace\" font-size=\"10\" style=\"pointer-events:none\" text-anchor=\"start\" x=\"123\" y=\"209.0\">num</text></svg></svg>"
      ],
      "text/plain": [
       "<IPython.core.display.HTML object>"
      ]
     },
     "metadata": {},
     "output_type": "display_data"
    }
   ],
   "source": [
    "train, test = split(ch_sysef_df, ratio=[0.75, 0.25], random_state=42)\n",
    "\n",
    "ql = feyn.QLattice(random_seed=42)\n",
    "\n",
    "models = ql.auto_run(\n",
    "    data=train,\n",
    "    output_name='ch_sysef',\n",
    "    n_epochs=2\n",
    ")\n",
    "\n",
    "best = models[0]\n",
    "best.plot(\n",
    "    data=train,\n",
    "    compare_data=test\n",
    ")"
   ]
  },
  {
   "cell_type": "code",
   "execution_count": null,
   "metadata": {},
   "outputs": [
    {
     "ename": "NameError",
     "evalue": "name 'train' is not defined",
     "output_type": "error",
     "traceback": [
      "\u001b[0;31m---------------------------------------------------------------------------\u001b[0m",
      "\u001b[0;31mNameError\u001b[0m                                 Traceback (most recent call last)",
      "Cell \u001b[0;32mIn[1], line 1\u001b[0m\n\u001b[0;32m----> 1\u001b[0m y_true \u001b[38;5;241m=\u001b[39m \u001b[43mtrain\u001b[49m[\u001b[38;5;124m'\u001b[39m\u001b[38;5;124mch_sysef\u001b[39m\u001b[38;5;124m'\u001b[39m]\n\u001b[1;32m      2\u001b[0m y_pred \u001b[38;5;241m=\u001b[39m best\u001b[38;5;241m.\u001b[39mpredict(train)\n\u001b[1;32m      4\u001b[0m plot_regression(y_true, y_pred)\n",
      "\u001b[0;31mNameError\u001b[0m: name 'train' is not defined"
     ]
    }
   ],
   "source": [
    "y_true = train['ch_sysef']\n",
    "y_pred = best.predict(train)\n",
    "\n",
    "plot_regression(y_true, y_pred)"
   ]
  }
 ],
 "metadata": {
  "kernelspec": {
   "display_name": "Python 3",
   "language": "python",
   "name": "python3"
  },
  "language_info": {
   "codemirror_mode": {
    "name": "ipython",
    "version": 3
   },
   "file_extension": ".py",
   "mimetype": "text/x-python",
   "name": "python",
   "nbconvert_exporter": "python",
   "pygments_lexer": "ipython3",
   "version": "3.9.6"
  }
 },
 "nbformat": 4,
 "nbformat_minor": 2
}
