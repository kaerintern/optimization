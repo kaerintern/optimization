{
 "cells": [
  {
   "cell_type": "code",
   "execution_count": 5,
   "metadata": {},
   "outputs": [],
   "source": [
    "import pandas as pd\n",
    "import smogn\n",
    "import seaborn\n",
    "from sklearn.model_selection import cross_val_score, GridSearchCV, train_test_split\n",
    "from sklearn.ensemble import RandomForestRegressor\n",
    "import pickle\n"
   ]
  },
  {
   "cell_type": "code",
   "execution_count": 3,
   "metadata": {},
   "outputs": [
    {
     "name": "stdout",
     "output_type": "stream",
     "text": [
      "total number of rows after filter is 211004\n"
     ]
    }
   ],
   "source": [
    "df = pd.read_csv(r\"C:\\Users\\fabian\\Downloads\\parklane_combined_edited.csv\")\n",
    "# filter where hr or hb is  not 0\n",
    "df = df[(df['sys_hr'] != 0) | (df['sys_hb'] != 0)]\n",
    "df = df[(df['h_chwst'] >=5) & (df['h_chwst'] <=20)]\n",
    "df = df[(df['h_chwrt'] >=5) & (df['h_chwrt'] <=25)]\n",
    "df = df[(df['pchwp_1_kw'] >=1.2) & (df['pchwp_1_kw'] <=5)]\n",
    "# unsure of pchwp_2 kw filtering\n",
    "#df = df[(df['pchwp_2_kw'] >=1.2) & (df['pchwp_2_kw'] <=5)]\n",
    "df = df[(df['h_chwf'] >= 0) & (df['h_chwf'] <= 1500)]\n",
    "df = df[(df['cwp_1_kw'] > 0) & (df['cwp_1_kw'] <=25)]\n",
    "df = df[(df['cwp_2_kw'] > 0) & (df['cwp_2_kw'] <=25)]\n",
    "df = df[(df['h_chwf'] >0) & (df['h_chwf'] <=1500)]\n",
    "df = df[(df['h_cwst']>=20) & (df['h_cwst']<=32)]\n",
    "df = df[(df['h_cwrt']>=20) & (df['h_cwrt']<=40)]\n",
    "df = df[(df['ch_1_kwe']>=0) & (df['ch_1_kwe']<=350)]\n",
    "df = df[(df['ch_2_kwe']>=0) & (df['ch_2_kwe']<=350)]\n",
    "df = df[(df['ct_1_kw']>=0) & (df['ct_1_kw']<=15)]\n",
    "df = df[(df['ct_2_kw']>=0) & (df['ct_2_kw']<=15)]\n",
    "df = df[(df['sys_cl']>=200) & (df['sys_cl']<=500)]\n",
    "df = df[(df['sys_hr']>0) & (df['sys_hr']<=1000)]\n",
    "df = df[(df['sys_kw']>0) & (df['sys_kw']<=400)]\n",
    "fil_df = df[(df['ch_sysef']>=0.4) & (df['ch_sysef']<=0.7)]\n",
    "\n",
    "# replace NaN values with 0? median imputation\n",
    "fil_df = fil_df.fillna(0)\n",
    "\n",
    "# creating Lift Column, Lift: [h_cwrt-h_chwst]\n",
    "fil_df['lift'] = fil_df['h_cwrt'] - fil_df['h_chwst']\n",
    "fil_df['ct_tot_kw'] = fil_df['ct_1_kw'] + fil_df['ct_2_kw']\n",
    "# both chillers running\n",
    "fil_df['ch_run'] = (fil_df['ch_1_kwe']>=2) & (fil_df['ch_2_kwe']>=2)\n",
    "fil_df['ch_run'] = fil_df['ch_run'].astype(int)\n",
    "\n",
    "# filtering additional columns\n",
    "fil_df = fil_df[(fil_df['ct_tot_kw']>=2) & (fil_df['ct_tot_kw']<=30)]\n",
    "fil_df = fil_df[(fil_df['lift']>=18) & (fil_df['lift']<=30)]\n",
    "\n",
    "print(\"total number of rows after filter is {}\".format(len(fil_df)))\n",
    "\n",
    "# selecting related features only\n",
    "ch_sysef_df = fil_df[['ch_sysef', 'lift', 'sys_cl', 'ct_tot_kw', 'ch_run', 'h_cwst']].reset_index()\n"
   ]
  },
  {
   "cell_type": "code",
   "execution_count": null,
   "metadata": {},
   "outputs": [],
   "source": [
    "'''rg_mtrx = [\n",
    "\n",
    "    [0.45, 1, 0],\n",
    "    [0.50, 0, 0],\n",
    "    [0.55, 0, 0],\n",
    "    [0.60, 0, 0],\n",
    "    [0.65, 1, 0]\n",
    "]\n",
    "df_smogn = smogn.smoter(\n",
    "    data=ch_sysef_df,\n",
    "    y='ch_sysef',\n",
    "    drop_na_row=True,\n",
    "    \n",
    "\n",
    ")'''\n",
    "df_smogn = pd.read_csv(\"/Users/admin/Desktop/optimization/parklane/parklane_smogn.csv\")"
   ]
  },
  {
   "cell_type": "markdown",
   "metadata": {},
   "source": [
    "## RF without h_cwst"
   ]
  },
  {
   "cell_type": "code",
   "execution_count": 5,
   "metadata": {},
   "outputs": [
    {
     "name": "stderr",
     "output_type": "stream",
     "text": [
      "dist_matrix: 100%|##########| 10578/10578 [4:09:45<00:00,  1.42s/it]  \n",
      "synth_matrix: 100%|##########| 10578/10578 [00:40<00:00, 263.11it/s]\n",
      "r_index: 100%|##########| 6866/6866 [00:05<00:00, 1294.96it/s]\n",
      "dist_matrix:  95%|#########5| 19335/20313 [13:05:46<42:19,  2.60s/it]  "
     ]
    }
   ],
   "source": [
    "# train_test split\n",
    "X = df_smogn[['lift', 'sys_cl', 'ct_tot_kw', 'ch_run', 'h_cwst']]\n",
    "y = df_smogn[['ch_sysef']]\n",
    "\n",
    "X_train, X_test, y_train, y_test = train_test_split(X, y, random_state=42, test_size=0.2)\n",
    "y.transpose()\n",
    "\n",
    "# Training\n",
    "max_depth = [100, 500]\n",
    "min_samples_splits = [10, 50, 100]\n",
    "no_of_trees = [100, 200, 500]\n",
    "criterion = ['squared_error', 'absolute_error', 'friedman_mse']\n",
    "min_samples_leafs = [10, 50, 100]\n",
    "\n",
    "parameter_grid = {\n",
    "    'max_depth': max_depth,\n",
    "    'min_samples_split': min_samples_splits,\n",
    "    'min_samples_leafs': min_samples_leafs,\n",
    "    'n_estimators': no_of_trees,\n",
    "    'criterion': criterion,\n",
    "    'max_features': ['log2', 'sqrt'],\n",
    "    'n_jobs': [-1],\n",
    "    'random_state': [10],\n",
    "\n",
    "}\n",
    "\n",
    "grid_search = GridSearchCV(\n",
    "    estimator= RandomForestRegressor(),\n",
    "    param_grid=parameter_grid,\n",
    "    cv=5\n",
    ")\n",
    "\n",
    "regr = RandomForestRegressor()\n",
    "grid_search.fit(X_train, y_train)\n",
    "\n",
    "## save model\n",
    "filename = 'RF_optimized_both_ch_h_cwst.sav'\n",
    "pickle.dump(grid_search, open(filename, 'wb'))"
   ]
  },
  {
   "cell_type": "code",
   "execution_count": 6,
   "metadata": {},
   "outputs": [],
   "source": [
    "import pandas as pd\n",
    "df_smogn = pd.read_csv(\"/Users/admin/Desktop/optimization/parklane/parklane_smogn.csv\")"
   ]
  },
  {
   "cell_type": "markdown",
   "metadata": {},
   "source": [
    "## RF with h_cwst"
   ]
  },
  {
   "cell_type": "code",
   "execution_count": null,
   "metadata": {},
   "outputs": [],
   "source": [
    "rg_mtrx = [\n",
    "\n",
    "    [0.45, 1, 0],\n",
    "    [0.50, 0, 0],\n",
    "    [0.55, 0, 0],\n",
    "    [0.60, 0, 0],\n",
    "    [0.65, 1, 0]\n",
    "]\n",
    "df_h_cwst_smogn = smogn.smoter(\n",
    "    data=ch_sysef_df,\n",
    "    y='ch_sysef',\n",
    "    drop_na_row=True,\n",
    "    \n",
    "\n",
    ")\n",
    "df_h_cwst_smogn = pd.read_csv(\"/Users/admin/Desktop/optimization/parklane/parklane_h_cwst_smogn.csv\")"
   ]
  },
  {
   "cell_type": "code",
   "execution_count": 8,
   "metadata": {},
   "outputs": [
    {
     "name": "stderr",
     "output_type": "stream",
     "text": [
      "/Users/admin/Library/Python/3.9/lib/python/site-packages/sklearn/model_selection/_validation.py:686: DataConversionWarning: A column-vector y was passed when a 1d array was expected. Please change the shape of y to (n_samples,), for example using ravel().\n",
      "  estimator.fit(X_train, y_train, **fit_params)\n",
      "/Users/admin/Library/Python/3.9/lib/python/site-packages/sklearn/model_selection/_validation.py:686: DataConversionWarning: A column-vector y was passed when a 1d array was expected. Please change the shape of y to (n_samples,), for example using ravel().\n",
      "  estimator.fit(X_train, y_train, **fit_params)\n",
      "/Users/admin/Library/Python/3.9/lib/python/site-packages/sklearn/model_selection/_validation.py:686: DataConversionWarning: A column-vector y was passed when a 1d array was expected. Please change the shape of y to (n_samples,), for example using ravel().\n",
      "  estimator.fit(X_train, y_train, **fit_params)\n",
      "/Users/admin/Library/Python/3.9/lib/python/site-packages/sklearn/model_selection/_validation.py:686: DataConversionWarning: A column-vector y was passed when a 1d array was expected. Please change the shape of y to (n_samples,), for example using ravel().\n",
      "  estimator.fit(X_train, y_train, **fit_params)\n",
      "/Users/admin/Library/Python/3.9/lib/python/site-packages/sklearn/model_selection/_validation.py:686: DataConversionWarning: A column-vector y was passed when a 1d array was expected. Please change the shape of y to (n_samples,), for example using ravel().\n",
      "  estimator.fit(X_train, y_train, **fit_params)\n",
      "/Users/admin/Library/Python/3.9/lib/python/site-packages/sklearn/model_selection/_validation.py:686: DataConversionWarning: A column-vector y was passed when a 1d array was expected. Please change the shape of y to (n_samples,), for example using ravel().\n",
      "  estimator.fit(X_train, y_train, **fit_params)\n",
      "/Users/admin/Library/Python/3.9/lib/python/site-packages/sklearn/model_selection/_validation.py:686: DataConversionWarning: A column-vector y was passed when a 1d array was expected. Please change the shape of y to (n_samples,), for example using ravel().\n",
      "  estimator.fit(X_train, y_train, **fit_params)\n",
      "/Users/admin/Library/Python/3.9/lib/python/site-packages/sklearn/model_selection/_validation.py:686: DataConversionWarning: A column-vector y was passed when a 1d array was expected. Please change the shape of y to (n_samples,), for example using ravel().\n",
      "  estimator.fit(X_train, y_train, **fit_params)\n",
      "/Users/admin/Library/Python/3.9/lib/python/site-packages/sklearn/model_selection/_validation.py:686: DataConversionWarning: A column-vector y was passed when a 1d array was expected. Please change the shape of y to (n_samples,), for example using ravel().\n",
      "  estimator.fit(X_train, y_train, **fit_params)\n",
      "/Users/admin/Library/Python/3.9/lib/python/site-packages/sklearn/model_selection/_validation.py:686: DataConversionWarning: A column-vector y was passed when a 1d array was expected. Please change the shape of y to (n_samples,), for example using ravel().\n",
      "  estimator.fit(X_train, y_train, **fit_params)\n",
      "/Users/admin/Library/Python/3.9/lib/python/site-packages/sklearn/model_selection/_validation.py:686: DataConversionWarning: A column-vector y was passed when a 1d array was expected. Please change the shape of y to (n_samples,), for example using ravel().\n",
      "  estimator.fit(X_train, y_train, **fit_params)\n",
      "/Users/admin/Library/Python/3.9/lib/python/site-packages/sklearn/model_selection/_validation.py:686: DataConversionWarning: A column-vector y was passed when a 1d array was expected. Please change the shape of y to (n_samples,), for example using ravel().\n",
      "  estimator.fit(X_train, y_train, **fit_params)\n",
      "/Users/admin/Library/Python/3.9/lib/python/site-packages/sklearn/model_selection/_validation.py:686: DataConversionWarning: A column-vector y was passed when a 1d array was expected. Please change the shape of y to (n_samples,), for example using ravel().\n",
      "  estimator.fit(X_train, y_train, **fit_params)\n",
      "/Users/admin/Library/Python/3.9/lib/python/site-packages/sklearn/model_selection/_validation.py:686: DataConversionWarning: A column-vector y was passed when a 1d array was expected. Please change the shape of y to (n_samples,), for example using ravel().\n",
      "  estimator.fit(X_train, y_train, **fit_params)\n",
      "/Users/admin/Library/Python/3.9/lib/python/site-packages/sklearn/model_selection/_validation.py:686: DataConversionWarning: A column-vector y was passed when a 1d array was expected. Please change the shape of y to (n_samples,), for example using ravel().\n",
      "  estimator.fit(X_train, y_train, **fit_params)\n",
      "/Users/admin/Library/Python/3.9/lib/python/site-packages/sklearn/model_selection/_validation.py:686: DataConversionWarning: A column-vector y was passed when a 1d array was expected. Please change the shape of y to (n_samples,), for example using ravel().\n",
      "  estimator.fit(X_train, y_train, **fit_params)\n",
      "/Users/admin/Library/Python/3.9/lib/python/site-packages/sklearn/model_selection/_validation.py:686: DataConversionWarning: A column-vector y was passed when a 1d array was expected. Please change the shape of y to (n_samples,), for example using ravel().\n",
      "  estimator.fit(X_train, y_train, **fit_params)\n",
      "/Users/admin/Library/Python/3.9/lib/python/site-packages/sklearn/model_selection/_validation.py:686: DataConversionWarning: A column-vector y was passed when a 1d array was expected. Please change the shape of y to (n_samples,), for example using ravel().\n",
      "  estimator.fit(X_train, y_train, **fit_params)\n",
      "/Users/admin/Library/Python/3.9/lib/python/site-packages/sklearn/model_selection/_validation.py:686: DataConversionWarning: A column-vector y was passed when a 1d array was expected. Please change the shape of y to (n_samples,), for example using ravel().\n",
      "  estimator.fit(X_train, y_train, **fit_params)\n",
      "/Users/admin/Library/Python/3.9/lib/python/site-packages/sklearn/model_selection/_validation.py:686: DataConversionWarning: A column-vector y was passed when a 1d array was expected. Please change the shape of y to (n_samples,), for example using ravel().\n",
      "  estimator.fit(X_train, y_train, **fit_params)\n",
      "/Users/admin/Library/Python/3.9/lib/python/site-packages/sklearn/model_selection/_search.py:909: DataConversionWarning: A column-vector y was passed when a 1d array was expected. Please change the shape of y to (n_samples,), for example using ravel().\n",
      "  self.best_estimator_.fit(X, y, **fit_params)\n"
     ]
    }
   ],
   "source": [
    "# train_test split\n",
    "X = df_h_cwst_smogn[['lift', 'sys_cl', 'ct_tot_kw', 'ch_run', 'h_cwst']]\n",
    "y = df_h_cwst_smogn[['ch_sysef']]\n",
    "\n",
    "X_train, X_test, y_train, y_test = train_test_split(X, y, random_state=42, test_size=0.2)\n",
    "y.transpose()\n",
    "\n",
    "# Training\n",
    "max_depth = [100, 500]\n",
    "min_samples_splits = [10, 50, 100]\n",
    "no_of_trees = [100, 200, 500]\n",
    "criterion = ['squared_error', 'absolute_error', 'friedman_mse']\n",
    "min_samples_leafs = [10, 50, 100]\n",
    "\n",
    "parameter_grid = {\n",
    "    'max_depth': max_depth,\n",
    "    'min_samples_split': min_samples_splits,\n",
    "    'min_samples_leafs': min_samples_leafs,\n",
    "    'n_estimators': no_of_trees,\n",
    "    'criterion': criterion,\n",
    "    'max_features': ['log2', 'sqrt'],\n",
    "    'n_jobs': [-1],\n",
    "    'random_state': [10],\n",
    "\n",
    "}\n",
    "\n",
    "grid_search = GridSearchCV(\n",
    "    estimator= RandomForestRegressor(),\n",
    "    param_grid=parameter_grid,\n",
    "    cv=5\n",
    ")\n",
    "\n",
    "regr = RandomForestRegressor()\n",
    "grid_search.fit(X_train, y_train)\n",
    "\n",
    "## save model\n",
    "filename = 'RF_optimized_both_ch_h_cwst.sav'\n",
    "pickle.dump(grid_search, open(filename, 'wb'))"
   ]
  }
 ],
 "metadata": {
  "kernelspec": {
   "display_name": "kaer",
   "language": "python",
   "name": "python3"
  },
  "language_info": {
   "codemirror_mode": {
    "name": "ipython",
    "version": 3
   },
   "file_extension": ".py",
   "mimetype": "text/x-python",
   "name": "python",
   "nbconvert_exporter": "python",
   "pygments_lexer": "ipython3",
   "version": "3.9.6"
  }
 },
 "nbformat": 4,
 "nbformat_minor": 2
}
