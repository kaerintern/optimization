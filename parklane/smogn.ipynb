{
 "cells": [
  {
   "cell_type": "code",
   "execution_count": 5,
   "metadata": {},
   "outputs": [],
   "source": [
    "import pandas as pd\n",
    "import smogn\n",
    "import seaborn\n",
    "from sklearn.model_selection import cross_val_score, GridSearchCV, train_test_split\n",
    "from sklearn.ensemble import RandomForestRegressor\n",
    "import pickle\n"
   ]
  },
  {
   "cell_type": "code",
   "execution_count": 3,
   "metadata": {},
   "outputs": [
    {
     "name": "stdout",
     "output_type": "stream",
     "text": [
      "total number of rows after filter is 211004\n"
     ]
    }
   ],
   "source": [
    "df = pd.read_csv(r\"C:\\Users\\fabian\\Downloads\\parklane_combined_edited.csv\")\n",
    "# filter where hr or hb is  not 0\n",
    "df = df[(df['sys_hr'] != 0) | (df['sys_hb'] != 0)]\n",
    "df = df[(df['h_chwst'] >=5) & (df['h_chwst'] <=20)]\n",
    "df = df[(df['h_chwrt'] >=5) & (df['h_chwrt'] <=25)]\n",
    "df = df[(df['pchwp_1_kw'] >=1.2) & (df['pchwp_1_kw'] <=5)]\n",
    "# unsure of pchwp_2 kw filtering\n",
    "#df = df[(df['pchwp_2_kw'] >=1.2) & (df['pchwp_2_kw'] <=5)]\n",
    "df = df[(df['h_chwf'] >= 0) & (df['h_chwf'] <= 1500)]\n",
    "df = df[(df['cwp_1_kw'] > 0) & (df['cwp_1_kw'] <=25)]\n",
    "df = df[(df['cwp_2_kw'] > 0) & (df['cwp_2_kw'] <=25)]\n",
    "df = df[(df['h_chwf'] >0) & (df['h_chwf'] <=1500)]\n",
    "df = df[(df['h_cwst']>=20) & (df['h_cwst']<=32)]\n",
    "df = df[(df['h_cwrt']>=20) & (df['h_cwrt']<=40)]\n",
    "df = df[(df['ch_1_kwe']>=0) & (df['ch_1_kwe']<=350)]\n",
    "df = df[(df['ch_2_kwe']>=0) & (df['ch_2_kwe']<=350)]\n",
    "df = df[(df['ct_1_kw']>=0) & (df['ct_1_kw']<=15)]\n",
    "df = df[(df['ct_2_kw']>=0) & (df['ct_2_kw']<=15)]\n",
    "df = df[(df['sys_cl']>=200) & (df['sys_cl']<=500)]\n",
    "df = df[(df['sys_hr']>0) & (df['sys_hr']<=1000)]\n",
    "df = df[(df['sys_kw']>0) & (df['sys_kw']<=400)]\n",
    "fil_df = df[(df['ch_sysef']>=0.4) & (df['ch_sysef']<=0.7)]\n",
    "\n",
    "# replace NaN values with 0? median imputation\n",
    "fil_df = fil_df.fillna(0)\n",
    "\n",
    "# creating Lift Column, Lift: [h_cwrt-h_chwst]\n",
    "fil_df['lift'] = fil_df['h_cwrt'] - fil_df['h_chwst']\n",
    "fil_df['ct_tot_kw'] = fil_df['ct_1_kw'] + fil_df['ct_2_kw']\n",
    "# both chillers running\n",
    "fil_df['ch_run'] = (fil_df['ch_1_kwe']>=2) & (fil_df['ch_2_kwe']>=2)\n",
    "fil_df['ch_run'] = fil_df['ch_run'].astype(int)\n",
    "\n",
    "# filtering additional columns\n",
    "fil_df = fil_df[(fil_df['ct_tot_kw']>=2) & (fil_df['ct_tot_kw']<=30)]\n",
    "fil_df = fil_df[(fil_df['lift']>=18) & (fil_df['lift']<=30)]\n",
    "\n",
    "print(\"total number of rows after filter is {}\".format(len(fil_df)))\n",
    "\n",
    "# selecting related features only\n",
    "ch_sysef_df = fil_df[['ch_sysef', 'lift', 'sys_cl', 'ct_tot_kw', 'ch_run']].reset_index()\n"
   ]
  },
  {
   "cell_type": "code",
   "execution_count": 4,
   "metadata": {},
   "outputs": [
    {
     "data": {
      "text/html": [
       "<div>\n",
       "<style scoped>\n",
       "    .dataframe tbody tr th:only-of-type {\n",
       "        vertical-align: middle;\n",
       "    }\n",
       "\n",
       "    .dataframe tbody tr th {\n",
       "        vertical-align: top;\n",
       "    }\n",
       "\n",
       "    .dataframe thead th {\n",
       "        text-align: right;\n",
       "    }\n",
       "</style>\n",
       "<table border=\"1\" class=\"dataframe\">\n",
       "  <thead>\n",
       "    <tr style=\"text-align: right;\">\n",
       "      <th></th>\n",
       "      <th>index</th>\n",
       "      <th>ch_sysef</th>\n",
       "      <th>lift</th>\n",
       "      <th>sys_cl</th>\n",
       "      <th>ct_tot_kw</th>\n",
       "      <th>ch_run</th>\n",
       "    </tr>\n",
       "  </thead>\n",
       "  <tbody>\n",
       "    <tr>\n",
       "      <th>0</th>\n",
       "      <td>646</td>\n",
       "      <td>0.497447</td>\n",
       "      <td>19.139454</td>\n",
       "      <td>352.233795</td>\n",
       "      <td>7.056000</td>\n",
       "      <td>0</td>\n",
       "    </tr>\n",
       "    <tr>\n",
       "      <th>1</th>\n",
       "      <td>648</td>\n",
       "      <td>0.550988</td>\n",
       "      <td>18.783153</td>\n",
       "      <td>349.504547</td>\n",
       "      <td>7.088001</td>\n",
       "      <td>0</td>\n",
       "    </tr>\n",
       "    <tr>\n",
       "      <th>2</th>\n",
       "      <td>649</td>\n",
       "      <td>0.570091</td>\n",
       "      <td>19.933795</td>\n",
       "      <td>360.257111</td>\n",
       "      <td>7.104001</td>\n",
       "      <td>0</td>\n",
       "    </tr>\n",
       "    <tr>\n",
       "      <th>3</th>\n",
       "      <td>650</td>\n",
       "      <td>0.570109</td>\n",
       "      <td>20.829254</td>\n",
       "      <td>370.950195</td>\n",
       "      <td>7.072001</td>\n",
       "      <td>0</td>\n",
       "    </tr>\n",
       "    <tr>\n",
       "      <th>4</th>\n",
       "      <td>651</td>\n",
       "      <td>0.572669</td>\n",
       "      <td>21.348466</td>\n",
       "      <td>374.542725</td>\n",
       "      <td>7.056001</td>\n",
       "      <td>0</td>\n",
       "    </tr>\n",
       "  </tbody>\n",
       "</table>\n",
       "</div>"
      ],
      "text/plain": [
       "   index  ch_sysef       lift      sys_cl  ct_tot_kw  ch_run\n",
       "0    646  0.497447  19.139454  352.233795   7.056000       0\n",
       "1    648  0.550988  18.783153  349.504547   7.088001       0\n",
       "2    649  0.570091  19.933795  360.257111   7.104001       0\n",
       "3    650  0.570109  20.829254  370.950195   7.072001       0\n",
       "4    651  0.572669  21.348466  374.542725   7.056001       0"
      ]
     },
     "execution_count": 4,
     "metadata": {},
     "output_type": "execute_result"
    }
   ],
   "source": [
    "ch_sysef_df.head(5)"
   ]
  },
  {
   "cell_type": "code",
   "execution_count": 5,
   "metadata": {},
   "outputs": [
    {
     "name": "stderr",
     "output_type": "stream",
     "text": [
      "dist_matrix: 100%|##########| 10578/10578 [4:09:45<00:00,  1.42s/it]  \n",
      "synth_matrix: 100%|##########| 10578/10578 [00:40<00:00, 263.11it/s]\n",
      "r_index: 100%|##########| 6866/6866 [00:05<00:00, 1294.96it/s]\n",
      "dist_matrix:  95%|#########5| 19335/20313 [13:05:46<42:19,  2.60s/it]  "
     ]
    }
   ],
   "source": [
    "rg_mtrx = [\n",
    "\n",
    "    [0.45, 1, 0],\n",
    "    [0.50, 0, 0],\n",
    "    [0.55, 0, 0],\n",
    "    [0.60, 0, 0],\n",
    "    [0.65, 1, 0]\n",
    "]\n",
    "df_smogn = smogn.smoter(\n",
    "    data=ch_sysef_df,\n",
    "    y='ch_sysef',\n",
    "    drop_na_row=True,\n",
    "    \n",
    "\n",
    ")"
   ]
  },
  {
   "cell_type": "code",
   "execution_count": null,
   "metadata": {},
   "outputs": [
    {
     "data": {
      "text/plain": [
       "<Axes: xlabel='ch_sysef', ylabel='Density'>"
      ]
     },
     "execution_count": 32,
     "metadata": {},
     "output_type": "execute_result"
    },
    {
     "data": {
      "image/png": "[encoded data removed]",
      "text/plain": [
       "<Figure size 640x480 with 1 Axes>"
      ]
     },
     "metadata": {},
     "output_type": "display_data"
    }
   ],
   "source": [
    "seaborn.kdeplot(ch_sysef_df['ch_sysef'], label = \"Original\")\n",
    "seaborn.kdeplot(df_smogn['ch_sysef'], label = \"Modified\")"
   ]
  },
  {
   "cell_type": "code",
   "execution_count": 6,
   "metadata": {},
   "outputs": [],
   "source": [
    "import pandas as pd\n",
    "df_smogn = pd.read_csv(\"/Users/admin/Desktop/optimization/parklane/parklane_smogn.csv\")"
   ]
  },
  {
   "cell_type": "markdown",
   "metadata": {},
   "source": [
    "## RF"
   ]
  },
  {
   "cell_type": "code",
   "execution_count": 8,
   "metadata": {},
   "outputs": [
    {
     "name": "stderr",
     "output_type": "stream",
     "text": [
      "/Users/admin/Library/Python/3.9/lib/python/site-packages/sklearn/model_selection/_validation.py:686: DataConversionWarning: A column-vector y was passed when a 1d array was expected. Please change the shape of y to (n_samples,), for example using ravel().\n",
      "  estimator.fit(X_train, y_train, **fit_params)\n",
      "/Users/admin/Library/Python/3.9/lib/python/site-packages/sklearn/model_selection/_validation.py:686: DataConversionWarning: A column-vector y was passed when a 1d array was expected. Please change the shape of y to (n_samples,), for example using ravel().\n",
      "  estimator.fit(X_train, y_train, **fit_params)\n",
      "/Users/admin/Library/Python/3.9/lib/python/site-packages/sklearn/model_selection/_validation.py:686: DataConversionWarning: A column-vector y was passed when a 1d array was expected. Please change the shape of y to (n_samples,), for example using ravel().\n",
      "  estimator.fit(X_train, y_train, **fit_params)\n",
      "/Users/admin/Library/Python/3.9/lib/python/site-packages/sklearn/model_selection/_validation.py:686: DataConversionWarning: A column-vector y was passed when a 1d array was expected. Please change the shape of y to (n_samples,), for example using ravel().\n",
      "  estimator.fit(X_train, y_train, **fit_params)\n",
      "/Users/admin/Library/Python/3.9/lib/python/site-packages/sklearn/model_selection/_validation.py:686: DataConversionWarning: A column-vector y was passed when a 1d array was expected. Please change the shape of y to (n_samples,), for example using ravel().\n",
      "  estimator.fit(X_train, y_train, **fit_params)\n",
      "/Users/admin/Library/Python/3.9/lib/python/site-packages/sklearn/model_selection/_validation.py:686: DataConversionWarning: A column-vector y was passed when a 1d array was expected. Please change the shape of y to (n_samples,), for example using ravel().\n",
      "  estimator.fit(X_train, y_train, **fit_params)\n",
      "/Users/admin/Library/Python/3.9/lib/python/site-packages/sklearn/model_selection/_validation.py:686: DataConversionWarning: A column-vector y was passed when a 1d array was expected. Please change the shape of y to (n_samples,), for example using ravel().\n",
      "  estimator.fit(X_train, y_train, **fit_params)\n",
      "/Users/admin/Library/Python/3.9/lib/python/site-packages/sklearn/model_selection/_validation.py:686: DataConversionWarning: A column-vector y was passed when a 1d array was expected. Please change the shape of y to (n_samples,), for example using ravel().\n",
      "  estimator.fit(X_train, y_train, **fit_params)\n",
      "/Users/admin/Library/Python/3.9/lib/python/site-packages/sklearn/model_selection/_validation.py:686: DataConversionWarning: A column-vector y was passed when a 1d array was expected. Please change the shape of y to (n_samples,), for example using ravel().\n",
      "  estimator.fit(X_train, y_train, **fit_params)\n",
      "/Users/admin/Library/Python/3.9/lib/python/site-packages/sklearn/model_selection/_validation.py:686: DataConversionWarning: A column-vector y was passed when a 1d array was expected. Please change the shape of y to (n_samples,), for example using ravel().\n",
      "  estimator.fit(X_train, y_train, **fit_params)\n",
      "/Users/admin/Library/Python/3.9/lib/python/site-packages/sklearn/model_selection/_validation.py:686: DataConversionWarning: A column-vector y was passed when a 1d array was expected. Please change the shape of y to (n_samples,), for example using ravel().\n",
      "  estimator.fit(X_train, y_train, **fit_params)\n",
      "/Users/admin/Library/Python/3.9/lib/python/site-packages/sklearn/model_selection/_validation.py:686: DataConversionWarning: A column-vector y was passed when a 1d array was expected. Please change the shape of y to (n_samples,), for example using ravel().\n",
      "  estimator.fit(X_train, y_train, **fit_params)\n",
      "/Users/admin/Library/Python/3.9/lib/python/site-packages/sklearn/model_selection/_validation.py:686: DataConversionWarning: A column-vector y was passed when a 1d array was expected. Please change the shape of y to (n_samples,), for example using ravel().\n",
      "  estimator.fit(X_train, y_train, **fit_params)\n",
      "/Users/admin/Library/Python/3.9/lib/python/site-packages/sklearn/model_selection/_validation.py:686: DataConversionWarning: A column-vector y was passed when a 1d array was expected. Please change the shape of y to (n_samples,), for example using ravel().\n",
      "  estimator.fit(X_train, y_train, **fit_params)\n",
      "/Users/admin/Library/Python/3.9/lib/python/site-packages/sklearn/model_selection/_validation.py:686: DataConversionWarning: A column-vector y was passed when a 1d array was expected. Please change the shape of y to (n_samples,), for example using ravel().\n",
      "  estimator.fit(X_train, y_train, **fit_params)\n",
      "/Users/admin/Library/Python/3.9/lib/python/site-packages/sklearn/model_selection/_validation.py:686: DataConversionWarning: A column-vector y was passed when a 1d array was expected. Please change the shape of y to (n_samples,), for example using ravel().\n",
      "  estimator.fit(X_train, y_train, **fit_params)\n",
      "/Users/admin/Library/Python/3.9/lib/python/site-packages/sklearn/model_selection/_validation.py:686: DataConversionWarning: A column-vector y was passed when a 1d array was expected. Please change the shape of y to (n_samples,), for example using ravel().\n",
      "  estimator.fit(X_train, y_train, **fit_params)\n",
      "/Users/admin/Library/Python/3.9/lib/python/site-packages/sklearn/model_selection/_validation.py:686: DataConversionWarning: A column-vector y was passed when a 1d array was expected. Please change the shape of y to (n_samples,), for example using ravel().\n",
      "  estimator.fit(X_train, y_train, **fit_params)\n",
      "/Users/admin/Library/Python/3.9/lib/python/site-packages/sklearn/model_selection/_validation.py:686: DataConversionWarning: A column-vector y was passed when a 1d array was expected. Please change the shape of y to (n_samples,), for example using ravel().\n",
      "  estimator.fit(X_train, y_train, **fit_params)\n",
      "/Users/admin/Library/Python/3.9/lib/python/site-packages/sklearn/model_selection/_validation.py:686: DataConversionWarning: A column-vector y was passed when a 1d array was expected. Please change the shape of y to (n_samples,), for example using ravel().\n",
      "  estimator.fit(X_train, y_train, **fit_params)\n",
      "/Users/admin/Library/Python/3.9/lib/python/site-packages/sklearn/model_selection/_search.py:909: DataConversionWarning: A column-vector y was passed when a 1d array was expected. Please change the shape of y to (n_samples,), for example using ravel().\n",
      "  self.best_estimator_.fit(X, y, **fit_params)\n"
     ]
    }
   ],
   "source": [
    "X = df_smogn[['lift', 'sys_cl', 'ct_tot_kw', 'ch_run']]\n",
    "y = df_smogn[['ch_sysef']]\n",
    "\n",
    "X_train, X_test, y_train, y_test = train_test_split(X, y, random_state=42, test_size=0.2)\n",
    "y.transpose()\n",
    "\n",
    "# Training\n",
    "no_of_trees = [100, 500]\n",
    "min_samples_splits = [100, 500]\n",
    "\n",
    "parameter_grid = {\n",
    "    'max_depth': no_of_trees,\n",
    "    'min_samples_split': min_samples_splits\n",
    "}\n",
    "\n",
    "grid_search = GridSearchCV(\n",
    "    estimator= RandomForestRegressor(),\n",
    "    param_grid=parameter_grid,\n",
    "    cv=5\n",
    ")\n",
    "\n",
    "regr = RandomForestRegressor()\n",
    "grid_search.fit(X_train, y_train)\n",
    "\n",
    "## save model\n",
    "filename = 'RF_both_ch_smogn.sav'\n",
    "pickle.dump(grid_search, open(filename, 'wb'))"
   ]
  },
  {
   "cell_type": "markdown",
   "metadata": {},
   "source": [
    "## XGBoost"
   ]
  },
  {
   "cell_type": "code",
   "execution_count": 9,
   "metadata": {},
   "outputs": [],
   "source": [
    "from xgboost import XGBRegressor\n",
    "\n",
    "max_depth = [5, 20, 50]\n",
    "gamma = [1, 5, 10]\n",
    "alpha = [20, 50, 100]\n",
    "reg_lambda = [0.2, 0.5, 1]\n",
    "n_estimators = [50, 100, 150]\n",
    "\n",
    "\n",
    "parameter_grid = {\n",
    "    'max_depth': max_depth,\n",
    "    'gamma': gamma,\n",
    "    'reg_alpha': alpha,\n",
    "    'reg_lambda': reg_lambda\n",
    "}\n",
    "\n",
    "bst_grid_search = GridSearchCV(\n",
    "    estimator= XGBRegressor(),\n",
    "    param_grid=parameter_grid,\n",
    "    cv=5\n",
    ")\n",
    "\n",
    "bst_grid_search.fit(X_train, y_train)\n",
    "\n",
    "## save model\n",
    "filename = 'XGB_both_ch_smogn.sav'\n",
    "pickle.dump(bst_grid_search, open(filename, 'wb'))"
   ]
  },
  {
   "cell_type": "code",
   "execution_count": 14,
   "metadata": {},
   "outputs": [
    {
     "data": {
      "text/plain": [
       "array([0.5600155], dtype=float32)"
      ]
     },
     "execution_count": 14,
     "metadata": {},
     "output_type": "execute_result"
    }
   ],
   "source": [
    "bst_grid_search.predict([[22.5, 375, 16, 1]])"
   ]
  }
 ],
 "metadata": {
  "kernelspec": {
   "display_name": "kaer",
   "language": "python",
   "name": "python3"
  },
  "language_info": {
   "codemirror_mode": {
    "name": "ipython",
    "version": 3
   },
   "file_extension": ".py",
   "mimetype": "text/x-python",
   "name": "python",
   "nbconvert_exporter": "python",
   "pygments_lexer": "ipython3",
   "version": "3.9.6"
  }
 },
 "nbformat": 4,
 "nbformat_minor": 2
}
